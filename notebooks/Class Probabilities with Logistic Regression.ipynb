{
 "cells": [
  {
   "cell_type": "markdown",
   "metadata": {},
   "source": [
    "# Class Probabilities with Logistic Regression"
   ]
  },
  {
   "cell_type": "markdown",
   "metadata": {},
   "source": [
    "In spite of the 'regression' label above, the algorithm of logistic regression is a model for classification. This model exceeds when classifiying linearly separable classes. This model can also be extended for OvR situations using multiclass classification. \n",
    "Since logistic regression is very easy to implement it has become one of the most popular classification models in the industry. It performs very well on linearly separable classes."
   ]
  },
  {
   "cell_type": "markdown",
   "metadata": {},
   "source": [
    "**odds ratio** : the odds in favor of a particular event, written as $\\frac{p}{\\left(1-p\\right)}$ where $p$ is the probability of the positive event."
   ]
  },
  {
   "cell_type": "markdown",
   "metadata": {},
   "source": [
    "**positive event** : refers to the event in which we want to predict."
   ]
  },
  {
   "cell_type": "markdown",
   "metadata": {
    "collapsed": true
   },
   "source": [
    "### Logit Function"
   ]
  },
  {
   "cell_type": "markdown",
   "metadata": {},
   "source": [
    "The logit function is helpful in mapping values from the range 0 to 1 into values spanning the real numbers, this is used to express a linear relationship between feature values and the log-odds. The logit function is defined as the natural log of the odds ratio $$logit\\left(p\\right) = log\\frac{p}{\\left(1-P\\right)}.$$"
   ]
  },
  {
   "cell_type": "code",
   "execution_count": 72,
   "metadata": {},
   "outputs": [
    {
     "data": {
      "image/png": "[encoded data removed]",
      "text/plain": [
       "<matplotlib.figure.Figure at 0x1179835f8>"
      ]
     },
     "metadata": {},
     "output_type": "display_data"
    }
   ],
   "source": [
    "import numpy as np\n",
    "import matplotlib.pyplot as plt\n",
    "\n",
    "# evenly sampled time at 200ms intervals\n",
    "p = np.arange(0, 1, .01)\n",
    "\n",
    "# red dashes, blue squares and green triangles\n",
    "plt.plot(p, np.log(p/(1-p)))\n",
    "# y axis ticks and gridline\n",
    "plt.xticks([0.5])\n",
    "plt.yticks([-4, -2, 0, 2, 4])\n",
    "\n",
    "ax = plt.gca()\n",
    "ax.xaxis.grid(True)\n",
    "ax.yaxis.grid(True)\n",
    "\n",
    "plt.show()"
   ]
  },
  {
   "cell_type": "markdown",
   "metadata": {},
   "source": [
    "### Sigmoid Function"
   ]
  },
  {
   "cell_type": "markdown",
   "metadata": {},
   "source": [
    "When we are interested in predicting the probability that a sample belongs to a certain class (which would be the inverse of the logit function) we use the logistic sigmoid function, often shortened to the sigmoid function. The sigmoid function maps any real number into the range of 0 to 1, this is immensely helpful for determining the probability of a sample belonging to a specific class. The sigmoid function is defined as $$\\phi\\left(z\\right) = \\frac{1}{1+e^{-z}},$$ where $z$ is the linear combination of all sample features and their respective weights $$z = w^Tx = w_0x_0 + w_1x_1 + \\dots + w_mx_m.$$"
   ]
  },
  {
   "cell_type": "code",
   "execution_count": 70,
   "metadata": {},
   "outputs": [
    {
     "data": {
      "image/png": "[encoded data removed]",
      "text/plain": [
       "<matplotlib.figure.Figure at 0x1179a78d0>"
      ]
     },
     "metadata": {},
     "output_type": "display_data"
    }
   ],
   "source": [
    "import matplotlib.pyplot as plt\n",
    "import numpy as np\n",
    "\n",
    "\n",
    "def sigmoid(z):\n",
    "    return 1.0 / (1.0 + np.exp(-z))\n",
    "\n",
    "z = np.arange(-7, 7, 0.1)\n",
    "phi_z = sigmoid(z)\n",
    "\n",
    "plt.plot(z, phi_z)\n",
    "plt.axvline(0.0, color='k')\n",
    "plt.ylim(-0.1, 1.1)\n",
    "plt.xlabel('z')\n",
    "plt.ylabel('$\\phi (z)$')\n",
    "\n",
    "# y axis ticks and gridline\n",
    "plt.yticks([0.0, 0.5, 1.0])\n",
    "ax = plt.gca()\n",
    "ax.yaxis.grid(True)\n",
    "\n",
    "plt.tight_layout()\n",
    "#plt.savefig('images/03_02.png', dpi=300)\n",
    "plt.show()"
   ]
  },
  {
   "cell_type": "markdown",
   "metadata": {},
   "source": [
    "If the input z is very large or even approaches infinity then the $sigmoid(z)$ will approach 1, the same is true for negative infinity however it will approach 0. The midpoint is 0, if $z=0$ then the $sigmoid(z)$ will be 0.5."
   ]
  },
  {
   "cell_type": "markdown",
   "metadata": {},
   "source": [
    "We can interpret the output of the sigmoid function to be the probability of a particular sample belonging to a certain class. For example, the probability of a particular sample belonging to class 1 would be expressed as the conditional probability $\\phi\\left(z\\right) = P(y=1 | x;w)$."
   ]
  },
  {
   "cell_type": "markdown",
   "metadata": {},
   "source": [
    "The predicted probability can then be simply converted into a binary outcome via a threshold function: \n",
    "$$\n",
    "    \\hat{y} = \\begin{cases} \n",
    "      1 & if \\phi\\left(z\\right) \\geq 0.5 \\\\\n",
    "      0 & otherwise\n",
    "   \\end{cases}\n",
    "$$"
   ]
  },
  {
   "cell_type": "markdown",
   "metadata": {},
   "source": [
    "After considering the sigmoid function $\\phi(z)$ and it's behavior we can simplify the threshold function to\n",
    "$$\n",
    "    \\hat{y} = \\begin{cases} \n",
    "      1 & if z \\geq 0 \\\\\n",
    "      0 & otherwise\n",
    "   \\end{cases}\n",
    "$$"
   ]
  },
  {
   "cell_type": "markdown",
   "metadata": {},
   "source": [
    "## Learning the Weights of the logistic cost function"
   ]
  },
  {
   "cell_type": "markdown",
   "metadata": {},
   "source": [
    "The sigmoid function can describe the probability that a sample belongs to a particular class given $z$, and as mentioned before $z$ is the linear combination of a sample's features and their respective weights. This is expressed as \n",
    "$$z = w^Tx = w_0x_0 + w_1x_1 + \\dots + w_mx_m.$$"
   ]
  },
  {
   "cell_type": "markdown",
   "metadata": {},
   "source": [
    "To get the estimation from the sigmoid function we first need $z$ and thus need to define weights and the mechanisms for which they are changed in response to the data."
   ]
  },
  {
   "cell_type": "markdown",
   "metadata": {},
   "source": [
    "Our end goal is to maximize the likelyhood that a sample belongs to a particular class, in doing so we must defined a cost function to minimize. We will again use the sum-squared-error cost function \n",
    "\n",
    "$$J(w) = \\frac{1}{2}\\sum_{i} \\left(y^\\left(i\\right) - \\phi\\left(z^\\left(i\\right)\\right)  \\right)^2.$$\n",
    "\n"
   ]
  },
  {
   "cell_type": "markdown",
   "metadata": {},
   "source": [
    "Let us define the likelyhood that a sample belongs to class $y$ as \n",
    "\n",
    "$$L(w) = P(y | x;w) = \\prod_{i=1}^{n} \\left(\\left(\\phi(z^{(i)}\\right)\\right)^{y^{(i)}} \\left(\\left(1-\\phi(z^{(i)}\\right)\\right)^{1-y^{(i)}} $$"
   ]
  },
  {
   "cell_type": "markdown",
   "metadata": {},
   "source": [
    "This means that the probability that a sample belongs to class y will be the product of each feature's probability of belonging to the class multiplied by the probability that it does not belong to the class. "
   ]
  },
  {
   "cell_type": "markdown",
   "metadata": {},
   "source": [
    "After taking the natural log of the previous function and using numerical methodns, this will be adjusted and optimized for performance until finally reaching the function \n",
    "$$J(w) = \\sum^{n}_{n=1}\\left[-y^{(i)} log\\left(\\phi\\left(z^{(i)}\\right)\\right) - \\left(1-y^{(i)}\\right) log\\left(1-\\phi\\left(z^{(i)}\\right)\\right)   \\right].$$\n",
    "This defines the likelyhood that a sample belongs to class $y$."
   ]
  },
  {
   "cell_type": "markdown",
   "metadata": {},
   "source": []
  }
 ],
 "metadata": {
  "kernelspec": {
   "display_name": "Python 3",
   "language": "python",
   "name": "python3"
  },
  "language_info": {
   "codemirror_mode": {
    "name": "ipython",
    "version": 3
   },
   "file_extension": ".py",
   "mimetype": "text/x-python",
   "name": "python",
   "nbconvert_exporter": "python",
   "pygments_lexer": "ipython3",
   "version": "3.6.3"
  }
 },
 "nbformat": 4,
 "nbformat_minor": 2
}
