{
 "cells": [
  {
   "cell_type": "markdown",
   "metadata": {},
   "source": [
    "# Naive Bayes"
   ]
  },
  {
   "cell_type": "markdown",
   "metadata": {},
   "source": [
    "These models are extremely fast and effective with large datasets with high dimensionality. Naive Bayes models have made a name for themselves because they are often quick and dirty. Usually there are few tunable parameters and so they make for a great baseline starter algorithm to throw at a dataset. "
   ]
  },
  {
   "cell_type": "markdown",
   "metadata": {},
   "source": [
    "### How does it work"
   ]
  },
  {
   "cell_type": "markdown",
   "metadata": {},
   "source": [
    "Naive Bayes takes advantage of the Bayesian Theorem, it describes the relationship of conditional probabilities of statistical quantities. In short it means that it works to find the probability of a label, given a set of input features. This can be written as $ P\\left( L\\ |\\ features \\right) $ -> *Probability of L (label) given features*."
   ]
  },
  {
   "cell_type": "markdown",
   "metadata": {},
   "source": [
    "In terms of finding quantities the Bayesian Theorem espresses this as \n",
    "\n",
    "$$ P\\left(L\\ |\\ features\\right) = \n",
    "\\frac{P\\left(L\\ |\\ features\\right)P\\left(L\\right)}{P\\left(features\\right)}\n",
    "$$\n",
    "\n"
   ]
  },
  {
   "cell_type": "code",
   "execution_count": null,
   "metadata": {},
   "outputs": [],
   "source": []
  }
 ],
 "metadata": {
  "kernelspec": {
   "display_name": "Python 3",
   "language": "python",
   "name": "python3"
  },
  "language_info": {
   "codemirror_mode": {
    "name": "ipython",
    "version": 3
   },
   "file_extension": ".py",
   "mimetype": "text/x-python",
   "name": "python",
   "nbconvert_exporter": "python",
   "pygments_lexer": "ipython3",
   "version": "3.6.5"
  }
 },
 "nbformat": 4,
 "nbformat_minor": 2
}
