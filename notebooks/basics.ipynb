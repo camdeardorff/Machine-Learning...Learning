{
 "cells": [
  {
   "cell_type": "markdown",
   "metadata": {},
   "source": [
    "# The basics of Machine Learning"
   ]
  },
  {
   "cell_type": "markdown",
   "metadata": {},
   "source": [
    "Machine learning is a subfield of artificial intelligence focused around self-learning algorithms to gain knowledge from data in order to make predictions. Such algorithms are particularly exciting because it doesn't require humans to manually enter rules and build models after analyzing large amounts of data."
   ]
  },
  {
   "cell_type": "markdown",
   "metadata": {},
   "source": [
    "## Types of machine learning"
   ]
  },
  {
   "cell_type": "markdown",
   "metadata": {},
   "source": [
    "### Supervised Learning"
   ]
  },
  {
   "cell_type": "markdown",
   "metadata": {},
   "source": [
    "With supervised learning the data that is feeded into the algorithm is already labeled, this means that the correct output signals (labels) are already known. This is useful for making predicting about future or unseen data. There are application subtypes and they depend on the type of data."
   ]
  },
  {
   "cell_type": "markdown",
   "metadata": {},
   "source": [
    "A supervised learning task with a known number of class labels is known as a **classification** task. Based on the input signals the algorithm will predict which group to which it belongs based on past observations. The labels will be a finite, unordered list of values.\n",
    "\n",
    "    [EX] : Classifying an email as spam or not spam."
   ]
  },
  {
   "cell_type": "markdown",
   "metadata": {},
   "source": [
    "A supervised learning task with a continuous output signal is a **regression** task. In this application of machine learning the algorithm would learn from a number of predictor (explanatory) variables and a continuous response variable (outcome). The job is to find the relationship between the predictor variables and the response variable then be able to predict the response based on the predictors.\n",
    "\n",
    "    [EX] : Predicting the price of a house based on square footage and year built."
   ]
  },
  {
   "cell_type": "markdown",
   "metadata": {},
   "source": [
    "### Reinforcement Learning"
   ]
  },
  {
   "cell_type": "markdown",
   "metadata": {},
   "source": [
    "In reinforcement learning the goal is to create a system (agent) that improves it's performance based on interactions with the environment. As the agent interacts with the environment a reward signal is created from a reward function. The reward signal acts similarly to a label in supervised learning however it is not a truth label, rather a measure of how well the agent interacted with the environment. Through a series of ineractions the agent learns a series of actions to maximize the reward through an exploratory trial-and-error approach or deliberate learning.\n",
    "\n",
    "    [EX] : Learning to play chess. The agent decides on a series of moves based on the state of the board (environment). The reward can be defined as win or lose at the conclusion of the game."
   ]
  },
  {
   "cell_type": "markdown",
   "metadata": {},
   "source": [
    "### Unsupervised Learning"
   ]
  },
  {
   "cell_type": "markdown",
   "metadata": {},
   "source": [
    "In unsupervised learning the algorithm is fed data without labels or a known structure. Using the learning techniques in unsupervised learning we are able the explore the structure of the data and extract meaningful information without the guidance of a known outcome or reward."
   ]
  },
  {
   "cell_type": "markdown",
   "metadata": {},
   "source": [
    "**Clustering** is an exploratory data analysis technique to organize a pile of information into meaningful groups (clusters) without any knownlege of membership beforehand. This clusters are often identified through a series of finding similar and dissimilar data points with some degree of certainty and grouping them accordingly. "
   ]
  },
  {
   "cell_type": "markdown",
   "metadata": {},
   "source": [
    "**Dimensionality reduction** is a commonly used approach in feature reduction to remove noise from data. These techniques can compress the data into smaller dimensions while maintaining most of the relevant information. This is especially useful for increasing the efficiency of other machine learning algorithms by reducing storage and computation impact."
   ]
  },
  {
   "cell_type": "markdown",
   "metadata": {},
   "source": [
    "## Data"
   ]
  },
  {
   "cell_type": "markdown",
   "metadata": {},
   "source": [
    "Good, well formatted data is often better than a more complex, optimized model. Training with bad data results in a model that doesn't solve the right problem."
   ]
  },
  {
   "cell_type": "markdown",
   "metadata": {},
   "source": [
    "**Prepocessing** is one of the most crucial steps in machine learning because the data used to train a model rarely comes in the proper form or shape for optimal performance. We can think of each component of a datapoint as a feature. Including only the useful features can greatly impact the efficiency of the model. Also many algorithms require that the selected features be on the same scale for optimal performance wihcih is often achieved by transforming the features in the range [0,1] or a standard normal distribution."
   ]
  },
  {
   "cell_type": "markdown",
   "metadata": {},
   "source": [
    "## Steps in Training a Machine Learning Model"
   ]
  },
  {
   "cell_type": "markdown",
   "metadata": {},
   "source": [
    "There are 5 main steps in training a machine learning model\n",
    "1. Selecting features and collecting training samples.\n",
    "2. Choosing a performance metric.\n",
    "3. Choosing a classifier and optimization algorithm.\n",
    "4. Evalutating the performance of the model.\n",
    "5. Tuning the algorithm."
   ]
  },
  {
   "cell_type": "code",
   "execution_count": null,
   "metadata": {
    "collapsed": true
   },
   "outputs": [],
   "source": []
  }
 ],
 "metadata": {
  "kernelspec": {
   "display_name": "Python 3",
   "language": "python",
   "name": "python3"
  },
  "language_info": {
   "codemirror_mode": {
    "name": "ipython",
    "version": 3
   },
   "file_extension": ".py",
   "mimetype": "text/x-python",
   "name": "python",
   "nbconvert_exporter": "python",
   "pygments_lexer": "ipython3",
   "version": "3.6.7"
  }
 },
 "nbformat": 4,
 "nbformat_minor": 2
}
