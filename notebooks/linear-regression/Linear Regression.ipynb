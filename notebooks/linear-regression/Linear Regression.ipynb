{
 "cells": [
  {
   "cell_type": "markdown",
   "metadata": {},
   "source": [
    "# Linear Regression"
   ]
  },
  {
   "cell_type": "markdown",
   "metadata": {},
   "source": [
    "Just like naive Bayesian models are great for early classification baselines, linear regression models are great for early regression baselines. Unlike classification tasks where the goal is to determine the class label for a sample, in regression analysis we are concerned more with predicting some continuous value given a sample."
   ]
  },
  {
   "cell_type": "markdown",
   "metadata": {},
   "source": [
    "### How does it work"
   ]
  },
  {
   "cell_type": "markdown",
   "metadata": {},
   "source": [
    "The classical form for a linear regression is often taught in introductory statistics classes as a straight line that fits to the data provided. $$y = mx + b \\ \\ or$$ $$y = w_0 + w_1x$$ where $b$ represents the y-axis intercept and $m$ is the weight coefficient. This form helps to explain the relationship between $x$ (explanatory variable) and $y$ (target variable) such that new $y$ values can be predicted given an arbitrary $x$ following training."
   ]
  },
  {
   "cell_type": "markdown",
   "metadata": {},
   "source": [
    "In short the use of a linear regression, as described above, is to fit a straight line to a dataset. <img src=\"./assets/linear-regression.png\" alt=\"fitting a line to a dataset\" style=\"width: 75%;\"/>"
   ]
  },
  {
   "cell_type": "markdown",
   "metadata": {},
   "source": [
    "Estimators that accept only one $x$ (explanatory variable) are called simple linear regressors, whereas generalized versions of the linear regression model that accept more than one $x$ are called multiple linear regressors. Such a model can be expressed as\n",
    "\n",
    "$$ y = w_0x_0 + w_1x_1 + ... + w_mx_m \\ ,$$\n",
    "which can be shortened to a sumation of products\n",
    "$$ \\sum^m_{i=0} w_ix_i \\ ,$$\n",
    "and finally described in linear terms as\n",
    "$$ w^tx \\ .$$"
   ]
  },
  {
   "cell_type": "markdown",
   "metadata": {},
   "source": [
    "Because visualizing multivariate plots is difficult the examples will mainly show simple linear regression examples. Since simple and multiple linear regression are based on the same concepts there is still benefit to seeing simple regression examples to inform the multiple."
   ]
  },
  {
   "cell_type": "markdown",
   "metadata": {},
   "source": [
    "### In Action"
   ]
  },
  {
   "cell_type": "code",
   "execution_count": null,
   "metadata": {},
   "outputs": [],
   "source": [
    "# working here"
   ]
  }
 ],
 "metadata": {
  "kernelspec": {
   "display_name": "Python 3",
   "language": "python",
   "name": "python3"
  },
  "language_info": {
   "codemirror_mode": {
    "name": "ipython",
    "version": 3
   },
   "file_extension": ".py",
   "mimetype": "text/x-python",
   "name": "python",
   "nbconvert_exporter": "python",
   "pygments_lexer": "ipython3",
   "version": "3.6.4"
  }
 },
 "nbformat": 4,
 "nbformat_minor": 2
}
