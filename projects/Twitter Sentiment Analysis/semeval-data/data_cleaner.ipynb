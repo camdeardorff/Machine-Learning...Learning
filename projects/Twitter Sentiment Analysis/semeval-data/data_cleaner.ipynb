{
 "cells": [
  {
   "cell_type": "code",
   "execution_count": 74,
   "metadata": {},
   "outputs": [],
   "source": [
    "import numpy as np\n",
    "import pandas as pd\n",
    "import sys\n",
    "import os\n",
    "\n",
    "def clean_convert(path, mergeNeutral):\n",
    "\n",
    "    with open(path) as f:\n",
    "        sentiments = []\n",
    "        tweets = []\n",
    "\n",
    "        for line in f:\n",
    "            tweet = \"\"\n",
    "            sentiment = \"\"\n",
    "            feilds = line.split(', ')\n",
    "            \n",
    "            # line has start and end locations\n",
    "            if len(feilds) > 4:\n",
    "                # get locations for start and end words\n",
    "                start = int(feilds[2])\n",
    "                end = int(feilds[3]) + 1\n",
    "                # get the tweet text and trim to correct word range\n",
    "                tweet = feilds[5][:len(feilds[5]) - 1]\n",
    "                tweetWords = tweet.split(' ')\n",
    "                tweetWordsRange = tweetWords[start:end]\n",
    "                tweet = ' '.join(tweetWordsRange)\n",
    "                # get sentiment for this range of words \n",
    "                sentiment = feilds[4]\n",
    "                \n",
    "            # line has no start and end locations\n",
    "            else:\n",
    "                tweet = feilds[3][:len(feilds[3]) - 1]\n",
    "                sentiment = feilds[2]\n",
    "                \n",
    "            # insert tweet and sentiment to table\n",
    "            if tweet != \"\" and sentiment != \"\":\n",
    "                # anything that is not positive/negative (neutral, objective, neutral or objective)\n",
    "                # becomes 'neutral'\n",
    "                if mergeNeutral and sentiment != \"positive\" and sentiment != \"negative\":\n",
    "                    sentiment = \"neutral\"\n",
    "                \n",
    "                sentiments.append(sentiment)\n",
    "                tweets.append(tweet)\n",
    "\n",
    "        df = pd.DataFrame({\n",
    "            \"sentiment\": pd.Series(sentiments), \n",
    "            \"tweet\": pd.Series(tweets) \n",
    "        })\n",
    "        df.to_csv(path + \".csv\", index=False, encoding='utf-8')"
   ]
  },
  {
   "cell_type": "code",
   "execution_count": 75,
   "metadata": {},
   "outputs": [],
   "source": [
    "files = [\n",
    "    \"a-dev.dist.txt\",\n",
    "    \"b-dev.dist.txt\",\n",
    "    \"a.dist.txt\",\n",
    "    \"b.dist.txt\"\n",
    "]\n",
    "for file in files:\n",
    "    clean_convert(file, mergeNeutral=True)"
   ]
  }
 ],
 "metadata": {
  "kernelspec": {
   "display_name": "Python 3",
   "language": "python",
   "name": "python3"
  },
  "language_info": {
   "codemirror_mode": {
    "name": "ipython",
    "version": 3
   },
   "file_extension": ".py",
   "mimetype": "text/x-python",
   "name": "python",
   "nbconvert_exporter": "python",
   "pygments_lexer": "ipython3",
   "version": "3.6.4"
  }
 },
 "nbformat": 4,
 "nbformat_minor": 2
}
